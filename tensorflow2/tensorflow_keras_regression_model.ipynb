{
 "cells": [
  {
   "cell_type": "code",
   "execution_count": 1,
   "metadata": {},
   "outputs": [],
   "source": [
    "import tensorflow as tf\n",
    "import numpy as np\n",
    "import matplotlib.pyplot as plt\n",
    "import pandas as pd\n",
    "from sklearn.datasets import fetch_california_housing\n",
    "%matplotlib inline "
   ]
  },
  {
   "cell_type": "code",
   "execution_count": 2,
   "metadata": {},
   "outputs": [],
   "source": [
    "house=fetch_california_housing()"
   ]
  },
  {
   "cell_type": "code",
   "execution_count": 3,
   "metadata": {},
   "outputs": [
    {
     "name": "stdout",
     "output_type": "stream",
     "text": [
      ".. _california_housing_dataset:\n",
      "\n",
      "California Housing dataset\n",
      "--------------------------\n",
      "\n",
      "**Data Set Characteristics:**\n",
      "\n",
      "    :Number of Instances: 20640\n",
      "\n",
      "    :Number of Attributes: 8 numeric, predictive attributes and the target\n",
      "\n",
      "    :Attribute Information:\n",
      "        - MedInc        median income in block\n",
      "        - HouseAge      median house age in block\n",
      "        - AveRooms      average number of rooms\n",
      "        - AveBedrms     average number of bedrooms\n",
      "        - Population    block population\n",
      "        - AveOccup      average house occupancy\n",
      "        - Latitude      house block latitude\n",
      "        - Longitude     house block longitude\n",
      "\n",
      "    :Missing Attribute Values: None\n",
      "\n",
      "This dataset was obtained from the StatLib repository.\n",
      "http://lib.stat.cmu.edu/datasets/\n",
      "\n",
      "The target variable is the median house value for California districts.\n",
      "\n",
      "This dataset was derived from the 1990 U.S. census, using one row per census\n",
      "block group. A block group is the smallest geographical unit for which the U.S.\n",
      "Census Bureau publishes sample data (a block group typically has a population\n",
      "of 600 to 3,000 people).\n",
      "\n",
      "It can be downloaded/loaded using the\n",
      ":func:`sklearn.datasets.fetch_california_housing` function.\n",
      "\n",
      ".. topic:: References\n",
      "\n",
      "    - Pace, R. Kelley and Ronald Barry, Sparse Spatial Autoregressions,\n",
      "      Statistics and Probability Letters, 33 (1997) 291-297\n",
      "\n"
     ]
    }
   ],
   "source": [
    "print(house.DESCR)"
   ]
  },
  {
   "cell_type": "code",
   "execution_count": 4,
   "metadata": {},
   "outputs": [],
   "source": [
    "X,Y=house.data,house.target"
   ]
  },
  {
   "cell_type": "code",
   "execution_count": 5,
   "metadata": {},
   "outputs": [
    {
     "data": {
      "text/plain": [
       "(20640,)"
      ]
     },
     "execution_count": 5,
     "metadata": {},
     "output_type": "execute_result"
    }
   ],
   "source": [
    "Y.shape"
   ]
  },
  {
   "cell_type": "code",
   "execution_count": 6,
   "metadata": {},
   "outputs": [],
   "source": [
    "# 训练集，测试机，验证集的划分\n",
    "from sklearn.model_selection import train_test_split\n",
    "X_train_all, X_test, y_train_all, y_test=train_test_split(X,Y,random_state=666)\n",
    "X_train, X_valid, y_train, y_valid=train_test_split(X_train_all,y_train_all,random_state=888)"
   ]
  },
  {
   "cell_type": "code",
   "execution_count": 7,
   "metadata": {},
   "outputs": [
    {
     "name": "stdout",
     "output_type": "stream",
     "text": [
      "(11610, 8)\n",
      "(3870, 8)\n",
      "(5160, 8)\n"
     ]
    }
   ],
   "source": [
    "print(X_train.shape)\n",
    "print(X_valid.shape)\n",
    "print(X_test.shape)"
   ]
  },
  {
   "cell_type": "code",
   "execution_count": 8,
   "metadata": {},
   "outputs": [
    {
     "name": "stdout",
     "output_type": "stream",
     "text": [
      "(11610,)\n",
      "(3870,)\n",
      "(5160,)\n"
     ]
    }
   ],
   "source": [
    "print(y_train.shape)\n",
    "print(y_valid.shape)\n",
    "print(y_test.shape)"
   ]
  },
  {
   "cell_type": "code",
   "execution_count": 9,
   "metadata": {},
   "outputs": [],
   "source": [
    "from sklearn.preprocessing import StandardScaler\n",
    "scale=StandardScaler()\n",
    "X_train_scaled=scale.fit_transform(X_train)"
   ]
  },
  {
   "cell_type": "code",
   "execution_count": 10,
   "metadata": {},
   "outputs": [],
   "source": [
    "X_test_scaled=scale.transform(X_test)\n",
    "X_valid_scaled=scale.transform(X_valid)"
   ]
  },
  {
   "cell_type": "code",
   "execution_count": 11,
   "metadata": {},
   "outputs": [],
   "source": [
    "model=tf.keras.models.Sequential([\n",
    "    tf.keras.layers.Dense(20,activation=\"relu\",input_shape=X_valid_scaled.shape[1:]),\n",
    "    tf.keras.layers.Dense(10,activation=\"relu\"),\n",
    "    tf.keras.layers.Dense(1)\n",
    "])"
   ]
  },
  {
   "cell_type": "code",
   "execution_count": 12,
   "metadata": {},
   "outputs": [
    {
     "name": "stdout",
     "output_type": "stream",
     "text": [
      "Model: \"sequential\"\n",
      "_________________________________________________________________\n",
      "Layer (type)                 Output Shape              Param #   \n",
      "=================================================================\n",
      "dense (Dense)                (None, 20)                180       \n",
      "_________________________________________________________________\n",
      "dense_1 (Dense)              (None, 10)                210       \n",
      "_________________________________________________________________\n",
      "dense_2 (Dense)              (None, 1)                 11        \n",
      "=================================================================\n",
      "Total params: 401\n",
      "Trainable params: 401\n",
      "Non-trainable params: 0\n",
      "_________________________________________________________________\n"
     ]
    }
   ],
   "source": [
    "model.summary()"
   ]
  },
  {
   "cell_type": "code",
   "execution_count": 13,
   "metadata": {},
   "outputs": [],
   "source": [
    "model.compile(loss=\"mean_squared_error\",optimizer=tf.keras.optimizers.SGD(learning_rate=1e-3))\n",
    "callbacks=[tf.keras.callbacks.EarlyStopping(patience=10,min_delta=1e-4)]"
   ]
  },
  {
   "cell_type": "code",
   "execution_count": 17,
   "metadata": {},
   "outputs": [
    {
     "name": "stdout",
     "output_type": "stream",
     "text": [
      "Train on 11610 samples, validate on 3870 samples\n",
      "Epoch 1/200\n",
      "11610/11610 [==============================] - 0s 35us/sample - loss: 0.3550 - val_loss: 0.3556\n",
      "Epoch 2/200\n",
      "11610/11610 [==============================] - 0s 34us/sample - loss: 0.3546 - val_loss: 0.3560\n",
      "Epoch 3/200\n",
      "11610/11610 [==============================] - 0s 34us/sample - loss: 0.3543 - val_loss: 0.3547\n",
      "Epoch 4/200\n",
      "11610/11610 [==============================] - 0s 34us/sample - loss: 0.3534 - val_loss: 0.3556\n",
      "Epoch 5/200\n",
      "11610/11610 [==============================] - 0s 34us/sample - loss: 0.3531 - val_loss: 0.3545\n",
      "Epoch 6/200\n",
      "11610/11610 [==============================] - 0s 34us/sample - loss: 0.3527 - val_loss: 0.3543\n",
      "Epoch 7/200\n",
      "11610/11610 [==============================] - 0s 34us/sample - loss: 0.3521 - val_loss: 0.3542\n",
      "Epoch 8/200\n",
      "11610/11610 [==============================] - 0s 35us/sample - loss: 0.3520 - val_loss: 0.3522\n",
      "Epoch 9/200\n",
      "11610/11610 [==============================] - 0s 35us/sample - loss: 0.3513 - val_loss: 0.3518\n",
      "Epoch 10/200\n",
      "11610/11610 [==============================] - 0s 34us/sample - loss: 0.3511 - val_loss: 0.3520\n",
      "Epoch 11/200\n",
      "11610/11610 [==============================] - 0s 34us/sample - loss: 0.3507 - val_loss: 0.3518\n",
      "Epoch 12/200\n",
      "11610/11610 [==============================] - 0s 34us/sample - loss: 0.3502 - val_loss: 0.3515\n",
      "Epoch 13/200\n",
      "11610/11610 [==============================] - 0s 34us/sample - loss: 0.3494 - val_loss: 0.3506\n",
      "Epoch 14/200\n",
      "11610/11610 [==============================] - 0s 34us/sample - loss: 0.3493 - val_loss: 0.3507\n",
      "Epoch 15/200\n",
      "11610/11610 [==============================] - 0s 34us/sample - loss: 0.3488 - val_loss: 0.3497\n",
      "Epoch 16/200\n",
      "11610/11610 [==============================] - 0s 34us/sample - loss: 0.3484 - val_loss: 0.3492\n",
      "Epoch 17/200\n",
      "11610/11610 [==============================] - 0s 35us/sample - loss: 0.3481 - val_loss: 0.3491\n",
      "Epoch 18/200\n",
      "11610/11610 [==============================] - 0s 34us/sample - loss: 0.3479 - val_loss: 0.3484\n",
      "Epoch 19/200\n",
      "11610/11610 [==============================] - 0s 34us/sample - loss: 0.3474 - val_loss: 0.3481\n",
      "Epoch 20/200\n",
      "11610/11610 [==============================] - 0s 34us/sample - loss: 0.3470 - val_loss: 0.3484\n",
      "Epoch 21/200\n",
      "11610/11610 [==============================] - 0s 34us/sample - loss: 0.3466 - val_loss: 0.3476\n",
      "Epoch 22/200\n",
      "11610/11610 [==============================] - 0s 34us/sample - loss: 0.3462 - val_loss: 0.3470\n",
      "Epoch 23/200\n",
      "11610/11610 [==============================] - 0s 34us/sample - loss: 0.3458 - val_loss: 0.3465\n",
      "Epoch 24/200\n",
      "11610/11610 [==============================] - 0s 34us/sample - loss: 0.3455 - val_loss: 0.3461\n",
      "Epoch 25/200\n",
      "11610/11610 [==============================] - 0s 34us/sample - loss: 0.3451 - val_loss: 0.3455\n",
      "Epoch 26/200\n",
      "11610/11610 [==============================] - 0s 34us/sample - loss: 0.3448 - val_loss: 0.3461\n",
      "Epoch 27/200\n",
      "11610/11610 [==============================] - 0s 34us/sample - loss: 0.3444 - val_loss: 0.3455\n",
      "Epoch 28/200\n",
      "11610/11610 [==============================] - 0s 34us/sample - loss: 0.3441 - val_loss: 0.3446\n",
      "Epoch 29/200\n",
      "11610/11610 [==============================] - 0s 37us/sample - loss: 0.3438 - val_loss: 0.3449\n",
      "Epoch 30/200\n",
      "11610/11610 [==============================] - 0s 38us/sample - loss: 0.3435 - val_loss: 0.3445\n",
      "Epoch 31/200\n",
      "11610/11610 [==============================] - 0s 40us/sample - loss: 0.3430 - val_loss: 0.3445\n",
      "Epoch 32/200\n",
      "11610/11610 [==============================] - 0s 33us/sample - loss: 0.3426 - val_loss: 0.3458\n",
      "Epoch 33/200\n",
      "11610/11610 [==============================] - 0s 35us/sample - loss: 0.3420 - val_loss: 0.3446\n",
      "Epoch 34/200\n",
      "11610/11610 [==============================] - 0s 34us/sample - loss: 0.3419 - val_loss: 0.3426\n",
      "Epoch 35/200\n",
      "11610/11610 [==============================] - 0s 34us/sample - loss: 0.3415 - val_loss: 0.3437\n",
      "Epoch 36/200\n",
      "11610/11610 [==============================] - 0s 34us/sample - loss: 0.3412 - val_loss: 0.3433\n",
      "Epoch 37/200\n",
      "11610/11610 [==============================] - 0s 34us/sample - loss: 0.3410 - val_loss: 0.3418\n",
      "Epoch 38/200\n",
      "11610/11610 [==============================] - 0s 34us/sample - loss: 0.3407 - val_loss: 0.3428\n",
      "Epoch 39/200\n",
      "11610/11610 [==============================] - 0s 34us/sample - loss: 0.3403 - val_loss: 0.3416\n",
      "Epoch 40/200\n",
      "11610/11610 [==============================] - 0s 36us/sample - loss: 0.3399 - val_loss: 0.3415\n",
      "Epoch 41/200\n",
      "11610/11610 [==============================] - 0s 34us/sample - loss: 0.3396 - val_loss: 0.3411\n",
      "Epoch 42/200\n",
      "11610/11610 [==============================] - 0s 34us/sample - loss: 0.3393 - val_loss: 0.3404\n",
      "Epoch 43/200\n",
      "11610/11610 [==============================] - 0s 34us/sample - loss: 0.3389 - val_loss: 0.3414\n",
      "Epoch 44/200\n",
      "11610/11610 [==============================] - 0s 34us/sample - loss: 0.3387 - val_loss: 0.3403\n",
      "Epoch 45/200\n",
      "11610/11610 [==============================] - 0s 34us/sample - loss: 0.3384 - val_loss: 0.3390\n",
      "Epoch 46/200\n",
      "11610/11610 [==============================] - 0s 34us/sample - loss: 0.3382 - val_loss: 0.3404\n",
      "Epoch 47/200\n",
      "11610/11610 [==============================] - 0s 34us/sample - loss: 0.3378 - val_loss: 0.3394\n",
      "Epoch 48/200\n",
      "11610/11610 [==============================] - 0s 34us/sample - loss: 0.3375 - val_loss: 0.3397\n",
      "Epoch 49/200\n",
      "11610/11610 [==============================] - 0s 34us/sample - loss: 0.3373 - val_loss: 0.3383\n",
      "Epoch 50/200\n",
      "11610/11610 [==============================] - 0s 34us/sample - loss: 0.3370 - val_loss: 0.3387\n",
      "Epoch 51/200\n",
      "11610/11610 [==============================] - 0s 34us/sample - loss: 0.3367 - val_loss: 0.3378\n",
      "Epoch 52/200\n",
      "11610/11610 [==============================] - 0s 34us/sample - loss: 0.3365 - val_loss: 0.3375\n",
      "Epoch 53/200\n",
      "11610/11610 [==============================] - 0s 34us/sample - loss: 0.3360 - val_loss: 0.3371\n",
      "Epoch 54/200\n",
      "11610/11610 [==============================] - 0s 34us/sample - loss: 0.3359 - val_loss: 0.3391\n",
      "Epoch 55/200\n",
      "11610/11610 [==============================] - 0s 34us/sample - loss: 0.3357 - val_loss: 0.3369\n",
      "Epoch 56/200\n",
      "11610/11610 [==============================] - 0s 33us/sample - loss: 0.3353 - val_loss: 0.3376\n",
      "Epoch 57/200\n",
      "11610/11610 [==============================] - 0s 34us/sample - loss: 0.3351 - val_loss: 0.3367\n",
      "Epoch 58/200\n",
      "11610/11610 [==============================] - 0s 38us/sample - loss: 0.3348 - val_loss: 0.3356\n",
      "Epoch 59/200\n",
      "11610/11610 [==============================] - 0s 34us/sample - loss: 0.3347 - val_loss: 0.3359\n",
      "Epoch 60/200\n",
      "11610/11610 [==============================] - 0s 34us/sample - loss: 0.3344 - val_loss: 0.3360\n",
      "Epoch 61/200\n",
      "11610/11610 [==============================] - 0s 37us/sample - loss: 0.3341 - val_loss: 0.3349\n",
      "Epoch 62/200\n",
      "11610/11610 [==============================] - 0s 34us/sample - loss: 0.3339 - val_loss: 0.3348\n",
      "Epoch 63/200\n",
      "11610/11610 [==============================] - 0s 34us/sample - loss: 0.3334 - val_loss: 0.3349\n",
      "Epoch 64/200\n",
      "11610/11610 [==============================] - 0s 34us/sample - loss: 0.3332 - val_loss: 0.3346\n",
      "Epoch 65/200\n",
      "11610/11610 [==============================] - 0s 35us/sample - loss: 0.3331 - val_loss: 0.3341\n",
      "Epoch 66/200\n",
      "11610/11610 [==============================] - 0s 37us/sample - loss: 0.3328 - val_loss: 0.3339\n",
      "Epoch 67/200\n",
      "11610/11610 [==============================] - 0s 34us/sample - loss: 0.3324 - val_loss: 0.3338\n",
      "Epoch 68/200\n",
      "11610/11610 [==============================] - 0s 34us/sample - loss: 0.3322 - val_loss: 0.3357\n",
      "Epoch 69/200\n",
      "11610/11610 [==============================] - 0s 39us/sample - loss: 0.3322 - val_loss: 0.3333\n",
      "Epoch 70/200\n",
      "11610/11610 [==============================] - 0s 35us/sample - loss: 0.3318 - val_loss: 0.3331\n",
      "Epoch 71/200\n",
      "11610/11610 [==============================] - 0s 37us/sample - loss: 0.3315 - val_loss: 0.3325\n",
      "Epoch 72/200\n",
      "11610/11610 [==============================] - 0s 37us/sample - loss: 0.3313 - val_loss: 0.3323\n",
      "Epoch 73/200\n",
      "11610/11610 [==============================] - 0s 37us/sample - loss: 0.3310 - val_loss: 0.3318\n",
      "Epoch 74/200\n",
      "11610/11610 [==============================] - 0s 37us/sample - loss: 0.3306 - val_loss: 0.3323\n",
      "Epoch 75/200\n",
      "11610/11610 [==============================] - 0s 37us/sample - loss: 0.3305 - val_loss: 0.3329\n"
     ]
    },
    {
     "name": "stdout",
     "output_type": "stream",
     "text": [
      "Epoch 76/200\n",
      "11610/11610 [==============================] - 0s 35us/sample - loss: 0.3303 - val_loss: 0.3312\n",
      "Epoch 77/200\n",
      "11610/11610 [==============================] - 0s 38us/sample - loss: 0.3299 - val_loss: 0.3319\n",
      "Epoch 78/200\n",
      "11610/11610 [==============================] - 0s 37us/sample - loss: 0.3300 - val_loss: 0.3304\n",
      "Epoch 79/200\n",
      "11610/11610 [==============================] - 0s 37us/sample - loss: 0.3294 - val_loss: 0.3305\n",
      "Epoch 80/200\n",
      "11610/11610 [==============================] - 0s 37us/sample - loss: 0.3293 - val_loss: 0.3306\n",
      "Epoch 81/200\n",
      "11610/11610 [==============================] - 0s 37us/sample - loss: 0.3290 - val_loss: 0.3309\n",
      "Epoch 82/200\n",
      "11610/11610 [==============================] - 0s 38us/sample - loss: 0.3288 - val_loss: 0.3299\n",
      "Epoch 83/200\n",
      "11610/11610 [==============================] - 0s 37us/sample - loss: 0.3286 - val_loss: 0.3289\n",
      "Epoch 84/200\n",
      "11610/11610 [==============================] - 0s 37us/sample - loss: 0.3284 - val_loss: 0.3292\n",
      "Epoch 85/200\n",
      "11610/11610 [==============================] - 0s 37us/sample - loss: 0.3282 - val_loss: 0.3294\n",
      "Epoch 86/200\n",
      "11610/11610 [==============================] - 0s 37us/sample - loss: 0.3278 - val_loss: 0.3286\n",
      "Epoch 87/200\n",
      "11610/11610 [==============================] - 0s 37us/sample - loss: 0.3276 - val_loss: 0.3284\n",
      "Epoch 88/200\n",
      "11610/11610 [==============================] - 0s 36us/sample - loss: 0.3275 - val_loss: 0.3279\n",
      "Epoch 89/200\n",
      "11610/11610 [==============================] - 0s 38us/sample - loss: 0.3270 - val_loss: 0.3277\n",
      "Epoch 90/200\n",
      "11610/11610 [==============================] - 0s 37us/sample - loss: 0.3269 - val_loss: 0.3280\n",
      "Epoch 91/200\n",
      "11610/11610 [==============================] - 0s 37us/sample - loss: 0.3267 - val_loss: 0.3282\n",
      "Epoch 92/200\n",
      "11610/11610 [==============================] - 0s 37us/sample - loss: 0.3264 - val_loss: 0.3276\n",
      "Epoch 93/200\n",
      "11610/11610 [==============================] - 0s 37us/sample - loss: 0.3262 - val_loss: 0.3270\n",
      "Epoch 94/200\n",
      "11610/11610 [==============================] - 0s 37us/sample - loss: 0.3259 - val_loss: 0.3255\n",
      "Epoch 95/200\n",
      "11610/11610 [==============================] - 0s 36us/sample - loss: 0.3258 - val_loss: 0.3273\n",
      "Epoch 96/200\n",
      "11610/11610 [==============================] - 0s 37us/sample - loss: 0.3256 - val_loss: 0.3255\n",
      "Epoch 97/200\n",
      "11610/11610 [==============================] - 0s 36us/sample - loss: 0.3250 - val_loss: 0.3260\n",
      "Epoch 98/200\n",
      "11610/11610 [==============================] - 0s 39us/sample - loss: 0.3251 - val_loss: 0.3252\n",
      "Epoch 99/200\n",
      "11610/11610 [==============================] - 0s 37us/sample - loss: 0.3248 - val_loss: 0.3254\n",
      "Epoch 100/200\n",
      "11610/11610 [==============================] - 0s 36us/sample - loss: 0.3248 - val_loss: 0.3262\n",
      "Epoch 101/200\n",
      "11610/11610 [==============================] - 0s 37us/sample - loss: 0.3245 - val_loss: 0.3247\n",
      "Epoch 102/200\n",
      "11610/11610 [==============================] - 0s 37us/sample - loss: 0.3243 - val_loss: 0.3259\n",
      "Epoch 103/200\n",
      "11610/11610 [==============================] - 0s 36us/sample - loss: 0.3241 - val_loss: 0.3249\n",
      "Epoch 104/200\n",
      "11610/11610 [==============================] - 0s 38us/sample - loss: 0.3241 - val_loss: 0.3240\n",
      "Epoch 105/200\n",
      "11610/11610 [==============================] - 0s 38us/sample - loss: 0.3237 - val_loss: 0.3244\n",
      "Epoch 106/200\n",
      "11610/11610 [==============================] - 0s 36us/sample - loss: 0.3236 - val_loss: 0.3235\n",
      "Epoch 107/200\n",
      "11610/11610 [==============================] - 0s 38us/sample - loss: 0.3234 - val_loss: 0.3235\n",
      "Epoch 108/200\n",
      "11610/11610 [==============================] - 0s 38us/sample - loss: 0.3230 - val_loss: 0.3251\n",
      "Epoch 109/200\n",
      "11610/11610 [==============================] - 0s 34us/sample - loss: 0.3230 - val_loss: 0.3229\n",
      "Epoch 110/200\n",
      "11610/11610 [==============================] - 0s 34us/sample - loss: 0.3228 - val_loss: 0.3236\n",
      "Epoch 111/200\n",
      "11610/11610 [==============================] - 0s 34us/sample - loss: 0.3227 - val_loss: 0.3220\n",
      "Epoch 112/200\n",
      "11610/11610 [==============================] - 0s 34us/sample - loss: 0.3222 - val_loss: 0.3218\n",
      "Epoch 113/200\n",
      "11610/11610 [==============================] - 0s 34us/sample - loss: 0.3219 - val_loss: 0.3227\n",
      "Epoch 114/200\n",
      "11610/11610 [==============================] - 0s 34us/sample - loss: 0.3217 - val_loss: 0.3223\n",
      "Epoch 115/200\n",
      "11610/11610 [==============================] - 0s 39us/sample - loss: 0.3218 - val_loss: 0.3221\n",
      "Epoch 116/200\n",
      "11610/11610 [==============================] - 0s 37us/sample - loss: 0.3212 - val_loss: 0.3207\n",
      "Epoch 117/200\n",
      "11610/11610 [==============================] - 0s 37us/sample - loss: 0.3213 - val_loss: 0.3214\n",
      "Epoch 118/200\n",
      "11610/11610 [==============================] - 0s 37us/sample - loss: 0.3210 - val_loss: 0.3203\n",
      "Epoch 119/200\n",
      "11610/11610 [==============================] - 0s 37us/sample - loss: 0.3201 - val_loss: 0.3203\n",
      "Epoch 120/200\n",
      "11610/11610 [==============================] - 0s 38us/sample - loss: 0.3202 - val_loss: 0.3205\n",
      "Epoch 121/200\n",
      "11610/11610 [==============================] - 0s 36us/sample - loss: 0.3200 - val_loss: 0.3215\n",
      "Epoch 122/200\n",
      "11610/11610 [==============================] - 0s 36us/sample - loss: 0.3198 - val_loss: 0.3203\n",
      "Epoch 123/200\n",
      "11610/11610 [==============================] - 0s 37us/sample - loss: 0.3197 - val_loss: 0.3197\n",
      "Epoch 124/200\n",
      "11610/11610 [==============================] - 0s 38us/sample - loss: 0.3193 - val_loss: 0.3193\n",
      "Epoch 125/200\n",
      "11610/11610 [==============================] - 0s 37us/sample - loss: 0.3189 - val_loss: 0.3187\n",
      "Epoch 126/200\n",
      "11610/11610 [==============================] - 0s 37us/sample - loss: 0.3184 - val_loss: 0.3197\n",
      "Epoch 127/200\n",
      "11610/11610 [==============================] - 0s 38us/sample - loss: 0.3183 - val_loss: 0.3181\n",
      "Epoch 128/200\n",
      "11610/11610 [==============================] - 0s 38us/sample - loss: 0.3182 - val_loss: 0.3176\n",
      "Epoch 129/200\n",
      "11610/11610 [==============================] - 0s 37us/sample - loss: 0.3178 - val_loss: 0.3171\n",
      "Epoch 130/200\n",
      "11610/11610 [==============================] - 0s 37us/sample - loss: 0.3174 - val_loss: 0.3170\n",
      "Epoch 131/200\n",
      "11610/11610 [==============================] - 0s 38us/sample - loss: 0.3170 - val_loss: 0.3167\n",
      "Epoch 132/200\n",
      "11610/11610 [==============================] - 0s 34us/sample - loss: 0.3167 - val_loss: 0.3168\n",
      "Epoch 133/200\n",
      "11610/11610 [==============================] - 0s 34us/sample - loss: 0.3162 - val_loss: 0.3164\n",
      "Epoch 134/200\n",
      "11610/11610 [==============================] - 0s 34us/sample - loss: 0.3155 - val_loss: 0.3186\n",
      "Epoch 135/200\n",
      "11610/11610 [==============================] - 0s 34us/sample - loss: 0.3158 - val_loss: 0.3164\n",
      "Epoch 136/200\n",
      "11610/11610 [==============================] - 0s 38us/sample - loss: 0.3154 - val_loss: 0.3165\n",
      "Epoch 137/200\n",
      "11610/11610 [==============================] - 0s 37us/sample - loss: 0.3148 - val_loss: 0.3149\n",
      "Epoch 138/200\n",
      "11610/11610 [==============================] - 0s 38us/sample - loss: 0.3146 - val_loss: 0.3157\n",
      "Epoch 139/200\n",
      "11610/11610 [==============================] - 0s 37us/sample - loss: 0.3145 - val_loss: 0.3146\n",
      "Epoch 140/200\n",
      "11610/11610 [==============================] - 0s 35us/sample - loss: 0.3140 - val_loss: 0.3148\n",
      "Epoch 141/200\n",
      "11610/11610 [==============================] - 0s 38us/sample - loss: 0.3140 - val_loss: 0.3147\n",
      "Epoch 142/200\n",
      "11610/11610 [==============================] - 0s 38us/sample - loss: 0.3138 - val_loss: 0.3156\n",
      "Epoch 143/200\n",
      "11610/11610 [==============================] - 0s 37us/sample - loss: 0.3132 - val_loss: 0.3136\n",
      "Epoch 144/200\n",
      "11610/11610 [==============================] - 0s 37us/sample - loss: 0.3133 - val_loss: 0.3144\n",
      "Epoch 145/200\n",
      "11610/11610 [==============================] - 0s 36us/sample - loss: 0.3130 - val_loss: 0.3161\n",
      "Epoch 146/200\n",
      "11610/11610 [==============================] - 0s 37us/sample - loss: 0.3124 - val_loss: 0.3144\n",
      "Epoch 147/200\n",
      "11610/11610 [==============================] - 0s 37us/sample - loss: 0.3124 - val_loss: 0.3156\n",
      "Epoch 148/200\n",
      "11610/11610 [==============================] - 0s 36us/sample - loss: 0.3122 - val_loss: 0.3138\n",
      "Epoch 149/200\n",
      "11610/11610 [==============================] - 0s 38us/sample - loss: 0.3119 - val_loss: 0.3133\n",
      "Epoch 150/200\n",
      "11610/11610 [==============================] - 0s 38us/sample - loss: 0.3115 - val_loss: 0.3122\n",
      "Epoch 151/200\n",
      "11610/11610 [==============================] - 0s 37us/sample - loss: 0.3114 - val_loss: 0.3125\n",
      "Epoch 152/200\n",
      "11610/11610 [==============================] - 0s 34us/sample - loss: 0.3113 - val_loss: 0.3118\n",
      "Epoch 153/200\n",
      "11610/11610 [==============================] - 0s 38us/sample - loss: 0.3109 - val_loss: 0.3135\n",
      "Epoch 154/200\n",
      "11610/11610 [==============================] - 0s 37us/sample - loss: 0.3109 - val_loss: 0.3129\n",
      "Epoch 155/200\n",
      "11610/11610 [==============================] - 0s 37us/sample - loss: 0.3106 - val_loss: 0.3125\n",
      "Epoch 156/200\n",
      "11610/11610 [==============================] - 0s 37us/sample - loss: 0.3102 - val_loss: 0.3122\n",
      "Epoch 157/200\n",
      "11610/11610 [==============================] - 0s 36us/sample - loss: 0.3102 - val_loss: 0.3111\n",
      "Epoch 158/200\n",
      "11610/11610 [==============================] - 0s 38us/sample - loss: 0.3102 - val_loss: 0.3116\n",
      "Epoch 159/200\n",
      "11610/11610 [==============================] - 0s 38us/sample - loss: 0.3098 - val_loss: 0.3124\n",
      "Epoch 160/200\n",
      "11610/11610 [==============================] - 0s 37us/sample - loss: 0.3093 - val_loss: 0.3115\n",
      "Epoch 161/200\n",
      "11610/11610 [==============================] - 0s 36us/sample - loss: 0.3091 - val_loss: 0.3123\n",
      "Epoch 162/200\n",
      "11610/11610 [==============================] - 0s 34us/sample - loss: 0.3090 - val_loss: 0.3106\n",
      "Epoch 163/200\n",
      "11610/11610 [==============================] - 0s 34us/sample - loss: 0.3091 - val_loss: 0.3116\n",
      "Epoch 164/200\n",
      "11610/11610 [==============================] - 0s 34us/sample - loss: 0.3085 - val_loss: 0.3115\n",
      "Epoch 165/200\n",
      "11610/11610 [==============================] - 0s 37us/sample - loss: 0.3085 - val_loss: 0.3116\n",
      "Epoch 166/200\n",
      "11610/11610 [==============================] - 0s 38us/sample - loss: 0.3085 - val_loss: 0.3112\n",
      "Epoch 167/200\n",
      "11610/11610 [==============================] - 0s 37us/sample - loss: 0.3081 - val_loss: 0.3106\n",
      "Epoch 168/200\n",
      "11610/11610 [==============================] - 0s 36us/sample - loss: 0.3081 - val_loss: 0.3107\n",
      "Epoch 169/200\n",
      "11610/11610 [==============================] - 0s 37us/sample - loss: 0.3079 - val_loss: 0.3105\n",
      "Epoch 170/200\n",
      "11610/11610 [==============================] - 0s 37us/sample - loss: 0.3079 - val_loss: 0.3098\n",
      "Epoch 171/200\n",
      "11610/11610 [==============================] - 0s 37us/sample - loss: 0.3073 - val_loss: 0.3098\n",
      "Epoch 172/200\n",
      "11610/11610 [==============================] - 0s 36us/sample - loss: 0.3074 - val_loss: 0.3103\n",
      "Epoch 173/200\n",
      "11610/11610 [==============================] - 0s 37us/sample - loss: 0.3069 - val_loss: 0.3113\n",
      "Epoch 174/200\n",
      "11610/11610 [==============================] - 0s 37us/sample - loss: 0.3068 - val_loss: 0.3102\n",
      "Epoch 175/200\n",
      "11610/11610 [==============================] - 0s 37us/sample - loss: 0.3070 - val_loss: 0.3091\n",
      "Epoch 176/200\n",
      "11610/11610 [==============================] - 0s 36us/sample - loss: 0.3066 - val_loss: 0.3091\n",
      "Epoch 177/200\n",
      "11610/11610 [==============================] - 0s 38us/sample - loss: 0.3067 - val_loss: 0.3098\n",
      "Epoch 178/200\n",
      "11610/11610 [==============================] - 0s 37us/sample - loss: 0.3063 - val_loss: 0.3088\n",
      "Epoch 179/200\n",
      "11610/11610 [==============================] - 0s 37us/sample - loss: 0.3064 - val_loss: 0.3089\n",
      "Epoch 180/200\n",
      "11610/11610 [==============================] - 0s 38us/sample - loss: 0.3062 - val_loss: 0.3081\n",
      "Epoch 181/200\n",
      "11610/11610 [==============================] - 0s 37us/sample - loss: 0.3059 - val_loss: 0.3087\n",
      "Epoch 182/200\n",
      "11610/11610 [==============================] - 0s 37us/sample - loss: 0.3060 - val_loss: 0.3079\n",
      "Epoch 183/200\n",
      "11610/11610 [==============================] - 0s 37us/sample - loss: 0.3056 - val_loss: 0.3068\n",
      "Epoch 184/200\n",
      "11610/11610 [==============================] - 0s 37us/sample - loss: 0.3055 - val_loss: 0.3091\n",
      "Epoch 185/200\n",
      "11610/11610 [==============================] - 0s 35us/sample - loss: 0.3053 - val_loss: 0.3078\n",
      "Epoch 186/200\n",
      "11610/11610 [==============================] - 0s 38us/sample - loss: 0.3047 - val_loss: 0.3086\n",
      "Epoch 187/200\n",
      "11610/11610 [==============================] - 0s 34us/sample - loss: 0.3050 - val_loss: 0.3075\n",
      "Epoch 188/200\n",
      "11610/11610 [==============================] - 0s 36us/sample - loss: 0.3050 - val_loss: 0.3076\n",
      "Epoch 189/200\n",
      "11610/11610 [==============================] - 0s 38us/sample - loss: 0.3048 - val_loss: 0.3077\n",
      "Epoch 190/200\n",
      "11610/11610 [==============================] - 0s 38us/sample - loss: 0.3049 - val_loss: 0.3070\n",
      "Epoch 191/200\n",
      "11610/11610 [==============================] - 0s 36us/sample - loss: 0.3045 - val_loss: 0.3066\n",
      "Epoch 192/200\n",
      "11610/11610 [==============================] - 0s 38us/sample - loss: 0.3043 - val_loss: 0.3088\n",
      "Epoch 193/200\n",
      "11610/11610 [==============================] - 0s 37us/sample - loss: 0.3042 - val_loss: 0.3083\n",
      "Epoch 194/200\n",
      "11610/11610 [==============================] - 0s 37us/sample - loss: 0.3044 - val_loss: 0.3062\n",
      "Epoch 195/200\n",
      "11610/11610 [==============================] - 0s 37us/sample - loss: 0.3037 - val_loss: 0.3097\n",
      "Epoch 196/200\n",
      "11610/11610 [==============================] - 0s 37us/sample - loss: 0.3038 - val_loss: 0.3064\n",
      "Epoch 197/200\n",
      "11610/11610 [==============================] - 0s 37us/sample - loss: 0.3037 - val_loss: 0.3066\n",
      "Epoch 198/200\n",
      "11610/11610 [==============================] - 0s 34us/sample - loss: 0.3035 - val_loss: 0.3068\n",
      "Epoch 199/200\n",
      "11610/11610 [==============================] - 0s 38us/sample - loss: 0.3036 - val_loss: 0.3099\n",
      "Epoch 200/200\n",
      "11610/11610 [==============================] - 0s 37us/sample - loss: 0.3035 - val_loss: 0.3061\n"
     ]
    }
   ],
   "source": [
    "history=model.fit(X_train_scaled,y_train,validation_data=(X_valid_scaled,y_valid),epochs=200,callbacks=callbacks)"
   ]
  },
  {
   "cell_type": "code",
   "execution_count": 21,
   "metadata": {},
   "outputs": [
    {
     "data": {
      "image/png": "[encoded data removed]",
      "text/plain": [
       "<Figure size 576x360 with 1 Axes>"
      ]
     },
     "metadata": {
      "needs_background": "light"
     },
     "output_type": "display_data"
    }
   ],
   "source": [
    "def plot_learning_curve(history):\n",
    "    pd.DataFrame(history.history).plot(figsize=(8,5))\n",
    "    plt.grid(True)\n",
    "    plt.gca().set_ylim(0.25,0.36)\n",
    "    plt.show()\n",
    "\n",
    "plot_learning_curve(history)"
   ]
  },
  {
   "cell_type": "code",
   "execution_count": 22,
   "metadata": {},
   "outputs": [
    {
     "data": {
      "text/plain": [
       "0.327445673665335"
      ]
     },
     "execution_count": 22,
     "metadata": {},
     "output_type": "execute_result"
    }
   ],
   "source": [
    "model.evaluate(X_test_scaled,y_test,verbose=0)"
   ]
  },
  {
   "cell_type": "code",
   "execution_count": 24,
   "metadata": {},
   "outputs": [
    {
     "data": {
      "text/plain": [
       "dtype('float64')"
      ]
     },
     "execution_count": 24,
     "metadata": {},
     "output_type": "execute_result"
    }
   ],
   "source": [
    "X_test.dtype"
   ]
  },
  {
   "cell_type": "code",
   "execution_count": 25,
   "metadata": {},
   "outputs": [
    {
     "data": {
      "text/plain": [
       "dtype('float64')"
      ]
     },
     "execution_count": 25,
     "metadata": {},
     "output_type": "execute_result"
    }
   ],
   "source": [
    "y_valid.dtype"
   ]
  },
  {
   "cell_type": "code",
   "execution_count": null,
   "metadata": {},
   "outputs": [],
   "source": []
  }
 ],
 "metadata": {
  "kernelspec": {
   "display_name": "Python 3",
   "language": "python",
   "name": "python3"
  },
  "language_info": {
   "codemirror_mode": {
    "name": "ipython",
    "version": 3
   },
   "file_extension": ".py",
   "mimetype": "text/x-python",
   "name": "python",
   "nbconvert_exporter": "python",
   "pygments_lexer": "ipython3",
   "version": "3.6.7"
  }
 },
 "nbformat": 4,
 "nbformat_minor": 2
}
